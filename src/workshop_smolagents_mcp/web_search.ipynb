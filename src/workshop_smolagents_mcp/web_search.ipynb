{
 "cells": [
  {
   "cell_type": "markdown",
   "id": "87418bed",
   "metadata": {},
   "source": [
    "# Web Search & Summarization Agent with Smolagent\n",
    "\n",
    "In this notebook, we will build a natural language agent capable of:\n",
    "\n",
    "- Searching the web based on user queries  \n",
    "- Automatically extracting and summarizing content from the resulting pages  \n",
    "- Returning structured answers, powered by a large language model (LLM)\n",
    "\n",
    "We will use the [`smolagents`](https://github.com/smol-ai/smolagent) framework to connect tools like `DuckDuckGo` search and HTML scraping with an OpenAI model.\n",
    "\n",
    "\n",
    "## Example use case\n",
    "\n",
    "> \"Summarize the Hugging Face blog post about open LLMs from 2023.\"\n",
    "\n",
    "The agent will:\n",
    "1. Search the web for that blog post\n",
    "2. Find the best link\n",
    "3. Read and clean the content of the page\n",
    "4. Summarize"
   ]
  },
  {
   "cell_type": "code",
   "execution_count": 1,
   "id": "10e72b3f",
   "metadata": {},
   "outputs": [
    {
     "name": "stderr",
     "output_type": "stream",
     "text": [
      "/Users/raphael/workshop-smolagents-mcp/.venv/lib/python3.13/site-packages/tqdm/auto.py:21: TqdmWarning: IProgress not found. Please update jupyter and ipywidgets. See https://ipywidgets.readthedocs.io/en/stable/user_install.html\n",
      "  from .autonotebook import tqdm as notebook_tqdm\n"
     ]
    },
    {
     "data": {
      "text/plain": [
       "True"
      ]
     },
     "execution_count": 1,
     "metadata": {},
     "output_type": "execute_result"
    }
   ],
   "source": [
    "import os\n",
    "from smolagents import CodeAgent\n",
    "from smolagents import OpenAIServerModel\n",
    "from dotenv import load_dotenv\n",
    "\n",
    "load_dotenv(override=True)"
   ]
  },
  {
   "cell_type": "markdown",
   "id": "8d305bd5",
   "metadata": {},
   "source": [
    "### Tool: `web_search(query: str)`\n",
    "\n",
    "This tool enables the agent to **search the web using DuckDuckGo**.  \n",
    "It returns the **top 3 relevant results**, each with a title and a clickable URL.\n",
    "\n",
    "LLMs don’t have live access to the internet by default.  \n",
    "\n",
    "Example queries the agent might use this tool for:\n",
    "- `\"latest news about open-source LLMs\"`\n",
    "- `\"hugging face blog post on quantization\"`\n",
    "- `\"datacraft website upcoming events\"`\n",
    "\n",
    "#### How it works\n",
    "\n",
    "- The tool uses the [`ddgs`](https://pypi.org/project/ddgs/) library (DuckDuckGo Search).\n",
    "- It performs a web search for the given query.\n",
    "- It returns the first 3 results as a bullet list: `\"- [title] ([url])\"`"
   ]
  },
  {
   "cell_type": "code",
   "execution_count": 2,
   "id": "8e5fe080",
   "metadata": {},
   "outputs": [],
   "source": [
    "from workshop_smolagents_mcp.tools import web_search"
   ]
  },
  {
   "cell_type": "markdown",
   "id": "5d902abe",
   "metadata": {},
   "source": [
    "The `query_events_db` tool is defined in the [tools.py](./tools.py) file."
   ]
  },
  {
   "cell_type": "markdown",
   "id": "d4f47984",
   "metadata": {},
   "source": [
    "### Tool: `summarize_url(url: str)`\n",
    "\n",
    "This tool allows the agent to **extract and summarize the main textual content** from a public web page.\n",
    "\n",
    "It plays a key role in helping the agent “read the web” by turning a full HTML page into a clean, readable excerpt — ready to be summarized by the LLM.\n",
    "\n",
    "After finding a link with `web_search(...)`, the agent needs to access and understand what’s on that page.  \n",
    "\n",
    "This tool:\n",
    "- Downloads the page (`requests`)\n",
    "- Parses it (`BeautifulSoup`)\n",
    "- Removes all unnecessary tags (e.g. `<script>`, `<style>`, `<noscript>`)\n",
    "- Extracts **only the visible text**\n",
    "- Returns the **first 60 lines** as a preview, making it manageable for summarization\n",
    "\n",
    "\n",
    "\n",
    "- **Input**: a valid URL (starting with `http://` or `https://`)\n",
    "- **Output**: a cleaned block of raw text, ready to be passed to the model\n",
    "\n",
    "If the page is unreachable, the tool returns a fallback error message."
   ]
  },
  {
   "cell_type": "markdown",
   "id": "3dc9362e",
   "metadata": {},
   "source": [
    "The `summarize_url` tool is defined in the [tools.py](./tools.py) file."
   ]
  },
  {
   "cell_type": "code",
   "execution_count": 3,
   "id": "fa6c6906",
   "metadata": {},
   "outputs": [],
   "source": [
    "from workshop_smolagents_mcp.tools import summarize_url"
   ]
  },
  {
   "cell_type": "code",
   "execution_count": 4,
   "id": "6428414f",
   "metadata": {},
   "outputs": [],
   "source": [
    "model = OpenAIServerModel(\n",
    "    model_id=\"gpt-4o\",\n",
    "    api_base=\"https://api.openai.com/v1\",\n",
    "    api_key=os.environ[\"OPENAI_API_KEY\"]\n",
    ")"
   ]
  },
  {
   "cell_type": "markdown",
   "id": "ee778360",
   "metadata": {},
   "source": [
    "### Creating an Agent with Multiple Tools\n",
    "\n",
    "Now that we’ve defined two tools — `web_search` and `summarize_url` — we can combine them into a single agent.\n",
    "\n",
    "By passing **both tools** to the `CodeAgent`, the model gains the ability to:\n",
    "\n",
    "1. **Search the web** for relevant information (via `web_search`)\n",
    "2. **Read and extract the content** of a webpage (via `summarize_url`)\n",
    "\n",
    "\n",
    "The `CodeAgent` uses the language model to reason about the user’s question and **decide when and how to call each tool**.  \n",
    "This means you don’t need to manually control the flow — the agent will:\n",
    "\n",
    "- Interpret the user's intent\n",
    "- Call one or both tools as needed\n",
    "- Return a natural language answer\n",
    "\n",
    " For example, if you ask:\n",
    "> *\"Summarize the latest blog post from Hugging Face about open LLMs\"*  \n",
    " \n",
    " The agent might:\n",
    "1. Use `web_search` to find the link\n",
    "2. Use `summarize_url` on that link\n",
    "3. Return a final summary"
   ]
  },
  {
   "cell_type": "code",
   "execution_count": 5,
   "id": "6aea6ec4",
   "metadata": {},
   "outputs": [],
   "source": [
    "agent = CodeAgent(\n",
    "    tools=[web_search, summarize_url],\n",
    "    model=model,\n",
    ")"
   ]
  },
  {
   "cell_type": "code",
   "execution_count": 6,
   "id": "b941298a",
   "metadata": {},
   "outputs": [
    {
     "data": {
      "text/html": [
       "<pre style=\"white-space:pre;overflow-x:auto;line-height:normal;font-family:Menlo,'DejaVu Sans Mono',consolas,'Courier New',monospace\"><span style=\"color: #d4b702; text-decoration-color: #d4b702\">╭──────────────────────────────────────────────────── </span><span style=\"color: #d4b702; text-decoration-color: #d4b702; font-weight: bold\">New run</span><span style=\"color: #d4b702; text-decoration-color: #d4b702\"> ────────────────────────────────────────────────────╮</span>\n",
       "<span style=\"color: #d4b702; text-decoration-color: #d4b702\">│</span>                                                                                                                 <span style=\"color: #d4b702; text-decoration-color: #d4b702\">│</span>\n",
       "<span style=\"color: #d4b702; text-decoration-color: #d4b702\">│</span> <span style=\"font-weight: bold\">What is datacraft paris?</span>                                                                                        <span style=\"color: #d4b702; text-decoration-color: #d4b702\">│</span>\n",
       "<span style=\"color: #d4b702; text-decoration-color: #d4b702\">│</span>                                                                                                                 <span style=\"color: #d4b702; text-decoration-color: #d4b702\">│</span>\n",
       "<span style=\"color: #d4b702; text-decoration-color: #d4b702\">╰─ OpenAIServerModel - gpt-4o ────────────────────────────────────────────────────────────────────────────────────╯</span>\n",
       "</pre>\n"
      ],
      "text/plain": [
       "\u001b[38;2;212;183;2m╭─\u001b[0m\u001b[38;2;212;183;2m───────────────────────────────────────────────────\u001b[0m\u001b[38;2;212;183;2m \u001b[0m\u001b[1;38;2;212;183;2mNew run\u001b[0m\u001b[38;2;212;183;2m \u001b[0m\u001b[38;2;212;183;2m───────────────────────────────────────────────────\u001b[0m\u001b[38;2;212;183;2m─╮\u001b[0m\n",
       "\u001b[38;2;212;183;2m│\u001b[0m                                                                                                                 \u001b[38;2;212;183;2m│\u001b[0m\n",
       "\u001b[38;2;212;183;2m│\u001b[0m \u001b[1mWhat is datacraft paris?\u001b[0m                                                                                        \u001b[38;2;212;183;2m│\u001b[0m\n",
       "\u001b[38;2;212;183;2m│\u001b[0m                                                                                                                 \u001b[38;2;212;183;2m│\u001b[0m\n",
       "\u001b[38;2;212;183;2m╰─\u001b[0m\u001b[38;2;212;183;2m OpenAIServerModel - gpt-4o \u001b[0m\u001b[38;2;212;183;2m───────────────────────────────────────────────────────────────────────────────────\u001b[0m\u001b[38;2;212;183;2m─╯\u001b[0m\n"
      ]
     },
     "metadata": {},
     "output_type": "display_data"
    },
    {
     "data": {
      "text/html": [
       "<pre style=\"white-space:pre;overflow-x:auto;line-height:normal;font-family:Menlo,'DejaVu Sans Mono',consolas,'Courier New',monospace\"><span style=\"color: #d4b702; text-decoration-color: #d4b702\">━━━━━━━━━━━━━━━━━━━━━━━━━━━━━━━━━━━━━━━━━━━━━━━━━━━━━ </span><span style=\"font-weight: bold\">Step 1</span><span style=\"color: #d4b702; text-decoration-color: #d4b702\"> ━━━━━━━━━━━━━━━━━━━━━━━━━━━━━━━━━━━━━━━━━━━━━━━━━━━━━━</span>\n",
       "</pre>\n"
      ],
      "text/plain": [
       "\u001b[38;2;212;183;2m━━━━━━━━━━━━━━━━━━━━━━━━━━━━━━━━━━━━━━━━━━━━━━━━━━━━━ \u001b[0m\u001b[1mStep 1\u001b[0m\u001b[38;2;212;183;2m ━━━━━━━━━━━━━━━━━━━━━━━━━━━━━━━━━━━━━━━━━━━━━━━━━━━━━━\u001b[0m\n"
      ]
     },
     "metadata": {},
     "output_type": "display_data"
    },
    {
     "data": {
      "text/html": [
       "<pre style=\"white-space:pre;overflow-x:auto;line-height:normal;font-family:Menlo,'DejaVu Sans Mono',consolas,'Courier New',monospace\"> ─ <span style=\"font-weight: bold\">Executing parsed code:</span> ──────────────────────────────────────────────────────────────────────────────────────── \n",
       "  <span style=\"color: #f8f8f2; text-decoration-color: #f8f8f2; background-color: #272822\">pages </span><span style=\"color: #ff4689; text-decoration-color: #ff4689; background-color: #272822\">=</span><span style=\"color: #f8f8f2; text-decoration-color: #f8f8f2; background-color: #272822\"> web_search(query</span><span style=\"color: #ff4689; text-decoration-color: #ff4689; background-color: #272822\">=</span><span style=\"color: #e6db74; text-decoration-color: #e6db74; background-color: #272822\">\"datacraft paris\"</span><span style=\"color: #f8f8f2; text-decoration-color: #f8f8f2; background-color: #272822\">)</span><span style=\"background-color: #272822\">                                                                    </span>  \n",
       "  <span style=\"color: #f8f8f2; text-decoration-color: #f8f8f2; background-color: #272822\">print(pages)</span><span style=\"background-color: #272822\">                                                                                                   </span>  \n",
       " ───────────────────────────────────────────────────────────────────────────────────────────────────────────────── \n",
       "</pre>\n"
      ],
      "text/plain": [
       " ─ \u001b[1mExecuting parsed code:\u001b[0m ──────────────────────────────────────────────────────────────────────────────────────── \n",
       "  \u001b[38;2;248;248;242;48;2;39;40;34mpages\u001b[0m\u001b[38;2;248;248;242;48;2;39;40;34m \u001b[0m\u001b[38;2;255;70;137;48;2;39;40;34m=\u001b[0m\u001b[38;2;248;248;242;48;2;39;40;34m \u001b[0m\u001b[38;2;248;248;242;48;2;39;40;34mweb_search\u001b[0m\u001b[38;2;248;248;242;48;2;39;40;34m(\u001b[0m\u001b[38;2;248;248;242;48;2;39;40;34mquery\u001b[0m\u001b[38;2;255;70;137;48;2;39;40;34m=\u001b[0m\u001b[38;2;230;219;116;48;2;39;40;34m\"\u001b[0m\u001b[38;2;230;219;116;48;2;39;40;34mdatacraft paris\u001b[0m\u001b[38;2;230;219;116;48;2;39;40;34m\"\u001b[0m\u001b[38;2;248;248;242;48;2;39;40;34m)\u001b[0m\u001b[48;2;39;40;34m                                                                    \u001b[0m  \n",
       "  \u001b[38;2;248;248;242;48;2;39;40;34mprint\u001b[0m\u001b[38;2;248;248;242;48;2;39;40;34m(\u001b[0m\u001b[38;2;248;248;242;48;2;39;40;34mpages\u001b[0m\u001b[38;2;248;248;242;48;2;39;40;34m)\u001b[0m\u001b[48;2;39;40;34m                                                                                                   \u001b[0m  \n",
       " ───────────────────────────────────────────────────────────────────────────────────────────────────────────────── \n"
      ]
     },
     "metadata": {},
     "output_type": "display_data"
    },
    {
     "data": {
      "text/html": [
       "<pre style=\"white-space:pre;overflow-x:auto;line-height:normal;font-family:Menlo,'DejaVu Sans Mono',consolas,'Courier New',monospace\"><span style=\"font-weight: bold\">Execution logs:</span>\n",
       "- datacraft Club pour data scientists - datacraft (https://datacraft.paris/)\n",
       "- datacraft : photos, vidéos, recrutement (https://www.welcometothejungle.com/fr/companies/datacraft)\n",
       "- datacraft - paris ( datacraft - paris ) · GitHub (https://github.com/datacraft-paris)\n",
       "\n",
       "Out: None\n",
       "</pre>\n"
      ],
      "text/plain": [
       "\u001b[1mExecution logs:\u001b[0m\n",
       "- datacraft Club pour data scientists - datacraft (https://datacraft.paris/)\n",
       "- datacraft : photos, vidéos, recrutement (https://www.welcometothejungle.com/fr/companies/datacraft)\n",
       "- datacraft - paris ( datacraft - paris ) · GitHub (https://github.com/datacraft-paris)\n",
       "\n",
       "Out: None\n"
      ]
     },
     "metadata": {},
     "output_type": "display_data"
    },
    {
     "data": {
      "text/html": [
       "<pre style=\"white-space:pre;overflow-x:auto;line-height:normal;font-family:Menlo,'DejaVu Sans Mono',consolas,'Courier New',monospace\"><span style=\"color: #7f7f7f; text-decoration-color: #7f7f7f\">[Step 1: Duration 1.96 seconds| Input tokens: 1,982 | Output tokens: 75]</span>\n",
       "</pre>\n"
      ],
      "text/plain": [
       "\u001b[2m[Step 1: Duration 1.96 seconds| Input tokens: 1,982 | Output tokens: 75]\u001b[0m\n"
      ]
     },
     "metadata": {},
     "output_type": "display_data"
    },
    {
     "data": {
      "text/html": [
       "<pre style=\"white-space:pre;overflow-x:auto;line-height:normal;font-family:Menlo,'DejaVu Sans Mono',consolas,'Courier New',monospace\"><span style=\"color: #d4b702; text-decoration-color: #d4b702\">━━━━━━━━━━━━━━━━━━━━━━━━━━━━━━━━━━━━━━━━━━━━━━━━━━━━━ </span><span style=\"font-weight: bold\">Step 2</span><span style=\"color: #d4b702; text-decoration-color: #d4b702\"> ━━━━━━━━━━━━━━━━━━━━━━━━━━━━━━━━━━━━━━━━━━━━━━━━━━━━━━</span>\n",
       "</pre>\n"
      ],
      "text/plain": [
       "\u001b[38;2;212;183;2m━━━━━━━━━━━━━━━━━━━━━━━━━━━━━━━━━━━━━━━━━━━━━━━━━━━━━ \u001b[0m\u001b[1mStep 2\u001b[0m\u001b[38;2;212;183;2m ━━━━━━━━━━━━━━━━━━━━━━━━━━━━━━━━━━━━━━━━━━━━━━━━━━━━━━\u001b[0m\n"
      ]
     },
     "metadata": {},
     "output_type": "display_data"
    },
    {
     "data": {
      "text/html": [
       "<pre style=\"white-space:pre;overflow-x:auto;line-height:normal;font-family:Menlo,'DejaVu Sans Mono',consolas,'Courier New',monospace\"> ─ <span style=\"font-weight: bold\">Executing parsed code:</span> ──────────────────────────────────────────────────────────────────────────────────────── \n",
       "  <span style=\"color: #f8f8f2; text-decoration-color: #f8f8f2; background-color: #272822\">url </span><span style=\"color: #ff4689; text-decoration-color: #ff4689; background-color: #272822\">=</span><span style=\"color: #f8f8f2; text-decoration-color: #f8f8f2; background-color: #272822\"> </span><span style=\"color: #e6db74; text-decoration-color: #e6db74; background-color: #272822\">\"https://datacraft.paris/\"</span><span style=\"background-color: #272822\">                                                                               </span>  \n",
       "  <span style=\"color: #f8f8f2; text-decoration-color: #f8f8f2; background-color: #272822\">summary </span><span style=\"color: #ff4689; text-decoration-color: #ff4689; background-color: #272822\">=</span><span style=\"color: #f8f8f2; text-decoration-color: #f8f8f2; background-color: #272822\"> summarize_url(url)</span><span style=\"background-color: #272822\">                                                                                   </span>  \n",
       "  <span style=\"color: #f8f8f2; text-decoration-color: #f8f8f2; background-color: #272822\">print(summary)</span><span style=\"background-color: #272822\">                                                                                                 </span>  \n",
       " ───────────────────────────────────────────────────────────────────────────────────────────────────────────────── \n",
       "</pre>\n"
      ],
      "text/plain": [
       " ─ \u001b[1mExecuting parsed code:\u001b[0m ──────────────────────────────────────────────────────────────────────────────────────── \n",
       "  \u001b[38;2;248;248;242;48;2;39;40;34murl\u001b[0m\u001b[38;2;248;248;242;48;2;39;40;34m \u001b[0m\u001b[38;2;255;70;137;48;2;39;40;34m=\u001b[0m\u001b[38;2;248;248;242;48;2;39;40;34m \u001b[0m\u001b[38;2;230;219;116;48;2;39;40;34m\"\u001b[0m\u001b[38;2;230;219;116;48;2;39;40;34mhttps://datacraft.paris/\u001b[0m\u001b[38;2;230;219;116;48;2;39;40;34m\"\u001b[0m\u001b[48;2;39;40;34m                                                                               \u001b[0m  \n",
       "  \u001b[38;2;248;248;242;48;2;39;40;34msummary\u001b[0m\u001b[38;2;248;248;242;48;2;39;40;34m \u001b[0m\u001b[38;2;255;70;137;48;2;39;40;34m=\u001b[0m\u001b[38;2;248;248;242;48;2;39;40;34m \u001b[0m\u001b[38;2;248;248;242;48;2;39;40;34msummarize_url\u001b[0m\u001b[38;2;248;248;242;48;2;39;40;34m(\u001b[0m\u001b[38;2;248;248;242;48;2;39;40;34murl\u001b[0m\u001b[38;2;248;248;242;48;2;39;40;34m)\u001b[0m\u001b[48;2;39;40;34m                                                                                   \u001b[0m  \n",
       "  \u001b[38;2;248;248;242;48;2;39;40;34mprint\u001b[0m\u001b[38;2;248;248;242;48;2;39;40;34m(\u001b[0m\u001b[38;2;248;248;242;48;2;39;40;34msummary\u001b[0m\u001b[38;2;248;248;242;48;2;39;40;34m)\u001b[0m\u001b[48;2;39;40;34m                                                                                                 \u001b[0m  \n",
       " ───────────────────────────────────────────────────────────────────────────────────────────────────────────────── \n"
      ]
     },
     "metadata": {},
     "output_type": "display_data"
    },
    {
     "data": {
      "text/html": [
       "<pre style=\"white-space:pre;overflow-x:auto;line-height:normal;font-family:Menlo,'DejaVu Sans Mono',consolas,'Courier New',monospace\"><span style=\"font-weight: bold\">Execution logs:</span>\n",
       "Club pour data scientists - datacraft\n",
       "Agenda\n",
       "Streams\n",
       "Frugal AI\n",
       "Trustable AI\n",
       "Generative AI\n",
       "Other workshops\n",
       "Upskilling\n",
       "Formations\n",
       "Tech events\n",
       "Défis IAgen\n",
       "Escape Game\n",
       "LEX\n",
       "Job Board\n",
       "Join the Club\n",
       "Login\n",
       "datacraft, the Club for data scientists\n",
       "and their companies\n",
       "datacraft is a learning &amp; coworking Club for data scientists. It allows data scientists and data engineers to share\n",
       "best practices and train with their peers. datacraft enables cross-fertilization and helps accelerate the \n",
       "implementation of data and artificial intelligence projects. The first Base opened in February 2020 in Paris, \n",
       "gathering pioneer member companies. datacraft is also hosting 600+ high level data science researchers and \n",
       "freelance in residence. Our mission is to contribute to an efficient and responsible use of data.\n",
       "DATACRAFT AWARDS 2025\n",
       "event\n",
       "La communauté datacraft s’est réunie Lundi 23 juin Salle Wagram pour mettre en lumière des projets concrets et \n",
       "responsables, à fort impact technologique et sociétal.\n",
       "read more\n",
       "IA Générative &amp; Initiatives collaborateurs\n",
       "Evénement en présentiel et en distanciel\n",
       ",\n",
       "feedback\n",
       ",\n",
       "IA Gen\n",
       "L’Intelligence Artificielle générative au travail : Accompagner et sécuriser les initiatives des collaborateurs \n",
       "L’IA générative s’invite de plus en...\n",
       "read more\n",
       "neurons &amp; peppers\n",
       "Meetup\n",
       "One of the distinguishing factors making France a great AI country is its abundance of extraordinary talent in ML \n",
       "Research. Some of the greatest...\n",
       "read more\n",
       "Subscribe to our newsletter\n",
       "Success!\n",
       "Email\n",
       "Being a member of the datacraft Club means:\n",
       "Being able to participate in our weekly workshops, train with your peers and accelerate your projects\n",
       "Joining our community of experts, accessing our tools (Slack, Github…) and our premises – our first Base is located\n",
       "in Paris\n",
       "Find data talents: propose missions to researchers and freelancers in residence ; find partners for projects; \n",
       "recruit young data talents\n",
       "Access to all our other activities: monthly evenings for CDOs &amp; HR, our data governance workshops. Support on \n",
       "data/AI acculturation subjects with our digital escape game and the training courses we offer in partnership with \n",
       "Sorbonne University.\n",
       "They trust us\n",
       "our team\n",
       "join us\n",
       "about us\n",
       "calls &amp; tenders\n",
       "datacraft Awards\n",
       "blog\n",
       "press\n",
       "news\n",
       "legal\n",
       "contact us\n",
       "Follow\n",
       "Follow\n",
       "Follow\n",
       "Manage Consent\n",
       "To provide the best experiences, we use technologies like cookies to store and/or access device information. \n",
       "Consenting to these technologies will allow us to process data such as browsing behavior or unique IDs on this \n",
       "site. Not consenting or withdrawing consent, may adversely affect certain features and functions.\n",
       "Functional\n",
       "\n",
       "Out: None\n",
       "</pre>\n"
      ],
      "text/plain": [
       "\u001b[1mExecution logs:\u001b[0m\n",
       "Club pour data scientists - datacraft\n",
       "Agenda\n",
       "Streams\n",
       "Frugal AI\n",
       "Trustable AI\n",
       "Generative AI\n",
       "Other workshops\n",
       "Upskilling\n",
       "Formations\n",
       "Tech events\n",
       "Défis IAgen\n",
       "Escape Game\n",
       "LEX\n",
       "Job Board\n",
       "Join the Club\n",
       "Login\n",
       "datacraft, the Club for data scientists\n",
       "and their companies\n",
       "datacraft is a learning & coworking Club for data scientists. It allows data scientists and data engineers to share\n",
       "best practices and train with their peers. datacraft enables cross-fertilization and helps accelerate the \n",
       "implementation of data and artificial intelligence projects. The first Base opened in February 2020 in Paris, \n",
       "gathering pioneer member companies. datacraft is also hosting 600+ high level data science researchers and \n",
       "freelance in residence. Our mission is to contribute to an efficient and responsible use of data.\n",
       "DATACRAFT AWARDS 2025\n",
       "event\n",
       "La communauté datacraft s’est réunie Lundi 23 juin Salle Wagram pour mettre en lumière des projets concrets et \n",
       "responsables, à fort impact technologique et sociétal.\n",
       "read more\n",
       "IA Générative & Initiatives collaborateurs\n",
       "Evénement en présentiel et en distanciel\n",
       ",\n",
       "feedback\n",
       ",\n",
       "IA Gen\n",
       "L’Intelligence Artificielle générative au travail : Accompagner et sécuriser les initiatives des collaborateurs \n",
       "L’IA générative s’invite de plus en...\n",
       "read more\n",
       "neurons & peppers\n",
       "Meetup\n",
       "One of the distinguishing factors making France a great AI country is its abundance of extraordinary talent in ML \n",
       "Research. Some of the greatest...\n",
       "read more\n",
       "Subscribe to our newsletter\n",
       "Success!\n",
       "Email\n",
       "Being a member of the datacraft Club means:\n",
       "Being able to participate in our weekly workshops, train with your peers and accelerate your projects\n",
       "Joining our community of experts, accessing our tools (Slack, Github…) and our premises – our first Base is located\n",
       "in Paris\n",
       "Find data talents: propose missions to researchers and freelancers in residence ; find partners for projects; \n",
       "recruit young data talents\n",
       "Access to all our other activities: monthly evenings for CDOs & HR, our data governance workshops. Support on \n",
       "data/AI acculturation subjects with our digital escape game and the training courses we offer in partnership with \n",
       "Sorbonne University.\n",
       "They trust us\n",
       "our team\n",
       "join us\n",
       "about us\n",
       "calls & tenders\n",
       "datacraft Awards\n",
       "blog\n",
       "press\n",
       "news\n",
       "legal\n",
       "contact us\n",
       "Follow\n",
       "Follow\n",
       "Follow\n",
       "Manage Consent\n",
       "To provide the best experiences, we use technologies like cookies to store and/or access device information. \n",
       "Consenting to these technologies will allow us to process data such as browsing behavior or unique IDs on this \n",
       "site. Not consenting or withdrawing consent, may adversely affect certain features and functions.\n",
       "Functional\n",
       "\n",
       "Out: None\n"
      ]
     },
     "metadata": {},
     "output_type": "display_data"
    },
    {
     "data": {
      "text/html": [
       "<pre style=\"white-space:pre;overflow-x:auto;line-height:normal;font-family:Menlo,'DejaVu Sans Mono',consolas,'Courier New',monospace\"><span style=\"color: #7f7f7f; text-decoration-color: #7f7f7f\">[Step 2: Duration 1.79 seconds| Input tokens: 4,188 | Output tokens: 161]</span>\n",
       "</pre>\n"
      ],
      "text/plain": [
       "\u001b[2m[Step 2: Duration 1.79 seconds| Input tokens: 4,188 | Output tokens: 161]\u001b[0m\n"
      ]
     },
     "metadata": {},
     "output_type": "display_data"
    },
    {
     "data": {
      "text/html": [
       "<pre style=\"white-space:pre;overflow-x:auto;line-height:normal;font-family:Menlo,'DejaVu Sans Mono',consolas,'Courier New',monospace\"><span style=\"color: #d4b702; text-decoration-color: #d4b702\">━━━━━━━━━━━━━━━━━━━━━━━━━━━━━━━━━━━━━━━━━━━━━━━━━━━━━ </span><span style=\"font-weight: bold\">Step 3</span><span style=\"color: #d4b702; text-decoration-color: #d4b702\"> ━━━━━━━━━━━━━━━━━━━━━━━━━━━━━━━━━━━━━━━━━━━━━━━━━━━━━━</span>\n",
       "</pre>\n"
      ],
      "text/plain": [
       "\u001b[38;2;212;183;2m━━━━━━━━━━━━━━━━━━━━━━━━━━━━━━━━━━━━━━━━━━━━━━━━━━━━━ \u001b[0m\u001b[1mStep 3\u001b[0m\u001b[38;2;212;183;2m ━━━━━━━━━━━━━━━━━━━━━━━━━━━━━━━━━━━━━━━━━━━━━━━━━━━━━━\u001b[0m\n"
      ]
     },
     "metadata": {},
     "output_type": "display_data"
    },
    {
     "data": {
      "text/html": [
       "<pre style=\"white-space:pre;overflow-x:auto;line-height:normal;font-family:Menlo,'DejaVu Sans Mono',consolas,'Courier New',monospace\"> ─ <span style=\"font-weight: bold\">Executing parsed code:</span> ──────────────────────────────────────────────────────────────────────────────────────── \n",
       "  <span style=\"color: #f8f8f2; text-decoration-color: #f8f8f2; background-color: #272822\">final_answer(</span><span style=\"color: #e6db74; text-decoration-color: #e6db74; background-color: #272822\">\"datacraft Paris is a learning and coworking club for data scientists and data engineers, </span><span style=\"background-color: #272822\">        </span>  \n",
       "  <span style=\"color: #e6db74; text-decoration-color: #e6db74; background-color: #272822\">fostering collaboration, innovation, and implementation of data and AI projects in Paris.\"</span><span style=\"color: #f8f8f2; text-decoration-color: #f8f8f2; background-color: #272822\">)</span><span style=\"background-color: #272822\">                    </span>  \n",
       " ───────────────────────────────────────────────────────────────────────────────────────────────────────────────── \n",
       "</pre>\n"
      ],
      "text/plain": [
       " ─ \u001b[1mExecuting parsed code:\u001b[0m ──────────────────────────────────────────────────────────────────────────────────────── \n",
       "  \u001b[38;2;248;248;242;48;2;39;40;34mfinal_answer\u001b[0m\u001b[38;2;248;248;242;48;2;39;40;34m(\u001b[0m\u001b[38;2;230;219;116;48;2;39;40;34m\"\u001b[0m\u001b[38;2;230;219;116;48;2;39;40;34mdatacraft Paris is a learning and coworking club for data scientists and data engineers, \u001b[0m\u001b[48;2;39;40;34m        \u001b[0m  \n",
       "  \u001b[38;2;230;219;116;48;2;39;40;34mfostering collaboration, innovation, and implementation of data and AI projects in Paris.\u001b[0m\u001b[38;2;230;219;116;48;2;39;40;34m\"\u001b[0m\u001b[38;2;248;248;242;48;2;39;40;34m)\u001b[0m\u001b[48;2;39;40;34m                    \u001b[0m  \n",
       " ───────────────────────────────────────────────────────────────────────────────────────────────────────────────── \n"
      ]
     },
     "metadata": {},
     "output_type": "display_data"
    },
    {
     "data": {
      "text/html": [
       "<pre style=\"white-space:pre;overflow-x:auto;line-height:normal;font-family:Menlo,'DejaVu Sans Mono',consolas,'Courier New',monospace\"></pre>\n"
      ],
      "text/plain": []
     },
     "metadata": {},
     "output_type": "display_data"
    },
    {
     "data": {
      "text/html": [
       "<pre style=\"white-space:pre;overflow-x:auto;line-height:normal;font-family:Menlo,'DejaVu Sans Mono',consolas,'Courier New',monospace\"><span style=\"color: #d4b702; text-decoration-color: #d4b702; font-weight: bold\">Final answer: datacraft Paris is a learning and coworking club for data scientists and data engineers, fostering </span>\n",
       "<span style=\"color: #d4b702; text-decoration-color: #d4b702; font-weight: bold\">collaboration, innovation, and implementation of data and AI projects in Paris.</span>\n",
       "</pre>\n"
      ],
      "text/plain": [
       "\u001b[1;38;2;212;183;2mFinal answer: datacraft Paris is a learning and coworking club for data scientists and data engineers, fostering \u001b[0m\n",
       "\u001b[1;38;2;212;183;2mcollaboration, innovation, and implementation of data and AI projects in Paris.\u001b[0m\n"
      ]
     },
     "metadata": {},
     "output_type": "display_data"
    },
    {
     "data": {
      "text/html": [
       "<pre style=\"white-space:pre;overflow-x:auto;line-height:normal;font-family:Menlo,'DejaVu Sans Mono',consolas,'Courier New',monospace\"><span style=\"color: #7f7f7f; text-decoration-color: #7f7f7f\">[Step 3: Duration 2.41 seconds| Input tokens: 7,118 | Output tokens: 309]</span>\n",
       "</pre>\n"
      ],
      "text/plain": [
       "\u001b[2m[Step 3: Duration 2.41 seconds| Input tokens: 7,118 | Output tokens: 309]\u001b[0m\n"
      ]
     },
     "metadata": {},
     "output_type": "display_data"
    },
    {
     "data": {
      "text/plain": [
       "'datacraft Paris is a learning and coworking club for data scientists and data engineers, fostering collaboration, innovation, and implementation of data and AI projects in Paris.'"
      ]
     },
     "execution_count": 6,
     "metadata": {},
     "output_type": "execute_result"
    }
   ],
   "source": [
    "question = \"What is datacraft paris?\"\n",
    "agent.run(question)"
   ]
  }
 ],
 "metadata": {
  "kernelspec": {
   "display_name": ".venv",
   "language": "python",
   "name": "python3"
  },
  "language_info": {
   "codemirror_mode": {
    "name": "ipython",
    "version": 3
   },
   "file_extension": ".py",
   "mimetype": "text/x-python",
   "name": "python",
   "nbconvert_exporter": "python",
   "pygments_lexer": "ipython3",
   "version": "3.13.3"
  }
 },
 "nbformat": 4,
 "nbformat_minor": 5
}
