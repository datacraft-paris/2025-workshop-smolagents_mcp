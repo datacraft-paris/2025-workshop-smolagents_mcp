{
 "cells": [
  {
   "cell_type": "markdown",
   "id": "071e0673",
   "metadata": {},
   "source": [
    "# Multi-Agent System for Workshop Preparation\n",
    "\n",
    "This notebook demonstrates how to build a multi-agent system using [smolagents](https://huggingface.co/docs/smolagents), where each agent performs a specialized task. The manager agent orchestrates their collaboration to assist users in preparing for datacraft workshops based on their learning goals."
   ]
  },
  {
   "cell_type": "markdown",
   "id": "97733a77",
   "metadata": {},
   "source": [
    "## 1. Load dependencies and environment\n",
    "\n",
    "We start by importing required packages and loading environment variables (such as the OpenAI API key)."
   ]
  },
  {
   "cell_type": "code",
   "execution_count": null,
   "id": "28d6d2f3",
   "metadata": {},
   "outputs": [],
   "source": [
    "import os\n",
    "from dotenv import load_dotenv\n",
    "from smolagents import CodeAgent, OpenAIServerModel\n",
    "\n",
    "from workshop_smolagents_mcp.tools import query_events_db, web_search, summarize_url\n",
    "\n",
    "load_dotenv(override=True)"
   ]
  },
  {
   "cell_type": "markdown",
   "id": "0f6b8e25",
   "metadata": {},
   "source": [
    "## 2. Initialize the language model\n",
    "\n",
    "We configure the OpenAI model that will be used across all agents."
   ]
  },
  {
   "cell_type": "code",
   "execution_count": null,
   "id": "e9363513",
   "metadata": {},
   "outputs": [],
   "source": [
    "model = OpenAIServerModel(\n",
    "    model_id=\"gpt-4o\",\n",
    "    api_base=\"https://api.openai.com/v1\",\n",
    "    api_key=os.environ[\"OPENAI_API_KEY\"],\n",
    ")"
   ]
  },
  {
   "cell_type": "markdown",
   "id": "37036610",
   "metadata": {},
   "source": [
    "## 3. Create specialized agents\n",
    "\n",
    "We create two agents:\n",
    "- `WebAgent` can search and summarize content from the web.\n",
    "- `EventsAgent` can query a local SQLite database of datacraft workshops."
   ]
  },
  {
   "cell_type": "code",
   "execution_count": null,
   "id": "6841cfa4",
   "metadata": {},
   "outputs": [],
   "source": [
    "web_agent = CodeAgent(\n",
    "    tools=[web_search, summarize_url],\n",
    "    model=model,\n",
    "    name=\"WebAgent\",\n",
    "    description=\"Can search the web and find urls of online sources and summarize the content of the urls.\",\n",
    ")\n",
    "\n",
    "events_agent = CodeAgent(\n",
    "    tools=[query_events_db],\n",
    "    model=model,\n",
    "    name=\"EventsAgent\",\n",
    "    description=\"Can query the events database to find relevant datacraft events based on user mention of an existing event.\",\n",
    ")"
   ]
  },
  {
   "cell_type": "markdown",
   "id": "188f2d5f",
   "metadata": {},
   "source": [
    "## 4. Create the manager agent\n",
    "\n",
    "This agent coordinates the other two. It receives user goals and decides how to split the task between the database and web agents."
   ]
  },
  {
   "cell_type": "markdown",
   "id": "b2f5d823",
   "metadata": {},
   "source": [
    "### TODO: \n",
    "\n",
    "Add the two agents defined above to the `managed_agents` list of the `manager_agent`."
   ]
  },
  {
   "cell_type": "code",
   "execution_count": null,
   "id": "b0330f95",
   "metadata": {},
   "outputs": [],
   "source": [
    "manager_agent = CodeAgent(\n",
    "    tools=[],  # Required, even if empty\n",
    "    model=model,\n",
    "    managed_agents=[...],\n",
    "    name=\"WorkshopPreparationAgent\",\n",
    "    description=(\n",
    "        \"An intelligent assistant that helps datacraft event organizers draft a workshop invitation for members.\"\n",
    "        \"Given a user's workshop mention (e.g. 'I want to invite members for the upcoming workshop on watermarking'), it finds the relevant workshop \"\n",
    "        \"from the internal database and supplements this data with external learning resources from the web that can be used to prepare the workshop.\"\n",
    "    ),\n",
    ")"
   ]
  },
  {
   "cell_type": "markdown",
   "id": "80e742e5",
   "metadata": {},
   "source": [
    "## 5. Run an example request\n",
    "\n",
    "We simulate a user asking to improve their skills in generative AI. The manager agent will find both workshop and web resources to match."
   ]
  },
  {
   "cell_type": "markdown",
   "id": "1628a800",
   "metadata": {},
   "source": [
    "### TODO: \n",
    "\n",
    "Have fun: try to run the multi-agent system!"
   ]
  },
  {
   "cell_type": "code",
   "execution_count": null,
   "id": "adb87d41",
   "metadata": {},
   "outputs": [],
   "source": [
    "user_goal = \"Help me draft an invitation for the event which nomenclature is 2506-Geodis-GenAI4dev\"\n",
    "response = manager_agent.run(user_goal)\n",
    "print(response)"
   ]
  }
 ],
 "metadata": {
  "kernelspec": {
   "display_name": ".venv",
   "language": "python",
   "name": "python3"
  },
  "language_info": {
   "codemirror_mode": {
    "name": "ipython",
    "version": 3
   },
   "file_extension": ".py",
   "mimetype": "text/x-python",
   "name": "python",
   "nbconvert_exporter": "python",
   "pygments_lexer": "ipython3",
   "version": "3.13.3"
  }
 },
 "nbformat": 4,
 "nbformat_minor": 5
}
