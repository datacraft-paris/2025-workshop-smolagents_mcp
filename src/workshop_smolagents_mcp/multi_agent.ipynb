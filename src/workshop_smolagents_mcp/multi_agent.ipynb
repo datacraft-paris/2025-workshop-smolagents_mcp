{
 "cells": [
  {
   "cell_type": "markdown",
   "id": "071e0673",
   "metadata": {},
   "source": [
    "# Multi-Agent System for Workshop Preparation\n",
    "\n",
    "This notebook demonstrates how to build a multi-agent system using [smolagents](https://huggingface.co/docs/smolagents), where each agent performs a specialized task. The manager agent orchestrates their collaboration to assist users in preparing for datacraft workshops based on their learning goals."
   ]
  },
  {
   "cell_type": "markdown",
   "id": "97733a77",
   "metadata": {},
   "source": [
    "## 1. Load dependencies and environment\n",
    "\n",
    "We start by importing required packages and loading environment variables (such as the OpenAI API key)."
   ]
  },
  {
   "cell_type": "code",
   "execution_count": null,
   "id": "28d6d2f3",
   "metadata": {},
   "outputs": [],
   "source": [
    "import os\n",
    "from dotenv import load_dotenv\n",
    "from smolagents import CodeAgent, OpenAIServerModel\n",
    "\n",
    "from workshop_smolagents_mcp.tools import query_events_db, web_search, summarize_url\n",
    "\n",
    "load_dotenv(override=True)"
   ]
  },
  {
   "cell_type": "markdown",
   "id": "0f6b8e25",
   "metadata": {},
   "source": [
    "## 2. Initialize the language model\n",
    "\n",
    "We configure the OpenAI model that will be used across all agents."
   ]
  },
  {
   "cell_type": "markdown",
   "id": "68a7e837",
   "metadata": {},
   "source": [
    "## TODO:\n",
    "\n",
    "Configure the OpenAI model using OpenAIServerModel"
   ]
  },
  {
   "cell_type": "code",
   "execution_count": null,
   "id": "e9363513",
   "metadata": {},
   "outputs": [],
   "source": [
    "model = ..."
   ]
  },
  {
   "cell_type": "markdown",
   "id": "37036610",
   "metadata": {},
   "source": [
    "## 3. Create specialized agents\n",
    "\n",
    "We create two agents:\n",
    "- `WebAgent` can search and summarize content from the web.\n",
    "- `EventsAgent` can query a local SQLite database of datacraft workshops."
   ]
  },
  {
   "cell_type": "markdown",
   "id": "e5380499",
   "metadata": {},
   "source": []
  },
  {
   "cell_type": "markdown",
   "id": "61d39dc1",
   "metadata": {},
   "source": [
    "## TODO:\n",
    "\n",
    "Instanciate the web and events agents using CodeAgent"
   ]
  },
  {
   "cell_type": "code",
   "execution_count": 1,
   "id": "6841cfa4",
   "metadata": {},
   "outputs": [],
   "source": [
    "web_agent = ...\n",
    "\n",
    "events_agent = ..."
   ]
  },
  {
   "cell_type": "markdown",
   "id": "188f2d5f",
   "metadata": {},
   "source": [
    "## 4. Create the manager agent\n",
    "\n",
    "This agent coordinates the other two. It receives user goals and decides how to split the task between the database and web agents."
   ]
  },
  {
   "cell_type": "markdown",
   "id": "b2f5d823",
   "metadata": {},
   "source": [
    "### TODO: \n",
    "\n",
    "Add the two agents defined above to the `managed_agents` list of the `manager_agent`."
   ]
  },
  {
   "cell_type": "markdown",
   "id": "f01842c2",
   "metadata": {},
   "source": [
    "## TODO:\n",
    "\n",
    "Instanciate the manager agent using CodeAgent. This one has a `managed_agents` list attribute and no tools."
   ]
  },
  {
   "cell_type": "code",
   "execution_count": 2,
   "id": "b0330f95",
   "metadata": {},
   "outputs": [],
   "source": [
    "manager_agent = ..."
   ]
  },
  {
   "cell_type": "markdown",
   "id": "80e742e5",
   "metadata": {},
   "source": [
    "## 5. Run an example request\n",
    "\n",
    "We simulate a user asking to improve their skills in generative AI. The manager agent will find both workshop and web resources to match."
   ]
  },
  {
   "cell_type": "markdown",
   "id": "1628a800",
   "metadata": {},
   "source": [
    "### TODO: \n",
    "\n",
    "Have fun: try to run the multi-agent system!"
   ]
  },
  {
   "cell_type": "code",
   "execution_count": null,
   "id": "adb87d41",
   "metadata": {},
   "outputs": [],
   "source": [
    "user_goal = \"Help me draft an invitation for the event which nomenclature is 2506-Geodis-GenAI4dev\"\n",
    "response = manager_agent.run(user_goal)\n",
    "print(response)"
   ]
  }
 ],
 "metadata": {
  "kernelspec": {
   "display_name": ".venv",
   "language": "python",
   "name": "python3"
  },
  "language_info": {
   "codemirror_mode": {
    "name": "ipython",
    "version": 3
   },
   "file_extension": ".py",
   "mimetype": "text/x-python",
   "name": "python",
   "nbconvert_exporter": "python",
   "pygments_lexer": "ipython3",
   "version": "3.13.3"
  }
 },
 "nbformat": 4,
 "nbformat_minor": 5
}
