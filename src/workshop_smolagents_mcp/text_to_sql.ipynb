{
 "cells": [
  {
   "cell_type": "markdown",
   "id": "e1034175",
   "metadata": {},
   "source": [
    "# Datacraft Events Assistant – Querying a Local Database with Natural Language\n",
    "\n",
    "Welcome to this hands-on notebook!  \n",
    "The goal is to build an intelligent assistant that can answer questions like (using a database of events extracted from Datacraft’s internal calendar):\n",
    "\n",
    "> *\"What are the upcoming events in French?\"*  \n",
    "> *\"How many workshops are related to AI?\"*\n",
    "\n",
    "All of that by querying a **local database** using a **natural language interface** powered by an LLM (Large Language Model).\n",
    "\n",
    "\n",
    "## What You'll Learn\n",
    "\n",
    "In this notebook, you will:\n",
    "\n",
    "Connect a natural language agent to a local SQLite database  \n",
    "Define a tool that lets the agent run SQL queries  \n",
    "Ask real questions and get structured answers\n",
    "\n",
    "You’ll also learn how to use the [`smolagents`](https://github.com/smol-ai/smolagent) framework to combine tools with LLMs like GPT-4.\n",
    "\n",
    "\n",
    "## The `events` Database\n",
    "\n",
    "The agent will query a local database of events extracted from Datacraft’s internal calendar.  \n",
    "The database is a simple SQLite file called `events.db`, and it contains a single table: **`evenements`**.\n",
    "\n",
    "Each row represents one event (a workshop, talk, or training session).\n",
    "\n",
    "### Main columns:\n",
    "\n",
    "| Column         | Description                                        |\n",
    "|----------------|----------------------------------------------------|\n",
    "| `nomenclature` | Unique code for the event (e.g. `0706-AI-Intro`)   |\n",
    "| `titre`        | Event title (e.g. `\"Intro to Generative AI\"`)      |\n",
    "| `description`  | Full description of the event                      |\n",
    "| `date`         | Date of the event (as text, e.g. `2024-06-03`)     |\n",
    "| `horaire`      | Time range (e.g. `\"9h00 - 17h30\"`)                 |\n",
    "| `tag`          | Topics or tags (e.g. `#AI`, `#DataGouv`)           |\n",
    "| `langue`       | Language of the event (e.g. `\"français\"`, `\"english\"`) |\n",
    "\n",
    "\n",
    "## Technologies Used\n",
    "\n",
    "This notebook uses:\n",
    "\n",
    "- `smolagent` – to manage the agent and tools\n",
    "- `OpenAI` – to interpret your questions\n",
    "- `SQLAlchemy` – to connect to the database\n",
    "\n",
    "\n",
    "## Expected Outcome\n",
    "\n",
    "By the end of this notebook, you’ll be able to write:\n",
    "\n",
    "```python\n",
    "agent.run(\"List all French events after July 1st.\")"
   ]
  },
  {
   "cell_type": "code",
   "execution_count": null,
   "id": "bd8aed1e",
   "metadata": {},
   "outputs": [],
   "source": [
    "import os\n",
    "from smolagents import CodeAgent, OpenAIServerModel\n",
    "from dotenv import load_dotenv\n",
    "from sqlalchemy import create_engine, inspect\n",
    "\n",
    "load_dotenv(override=True)"
   ]
  },
  {
   "cell_type": "markdown",
   "id": "6f3b83bb",
   "metadata": {},
   "source": [
    "## Getting more info about the database column names"
   ]
  },
  {
   "cell_type": "markdown",
   "id": "c08ae030",
   "metadata": {},
   "source": [
    "### TODO: \n",
    "\n",
    "Instanciate an inspector object and print the table column names."
   ]
  },
  {
   "cell_type": "code",
   "execution_count": null,
   "id": "6e2b8ed2",
   "metadata": {},
   "outputs": [],
   "source": [
    "engine = create_engine(\"sqlite:///../../data/events.db\")\n",
    "inspector = ...\n",
    "for col_info in inspector.get_columns(\"evenements\"):\n",
    "    ..."
   ]
  },
  {
   "cell_type": "markdown",
   "id": "5a1a425c",
   "metadata": {},
   "source": [
    "### Defining a Tool for the Agent: `query_events_db`\n",
    "\n",
    "In `smolagent`, a **tool** is a Python function that the agent can call to interact with the outside world — such as querying a database, calling an API, reading a file, or performing calculations.\n",
    "\n",
    "#### Why define a tool?\n",
    "\n",
    "LLMs like GPT-4 don't have direct access to your local environment or files.  \n",
    "By wrapping a function with the `@tool` decorator, you allow the agent to **\"see\" and use** that function when it decides it's relevant to the user’s question.\n",
    "\n",
    "\n",
    "#### What does a tool need?\n",
    "\n",
    "A tool in `smolagent` is simply a Python function, but it must follow these **three key rules**:\n",
    "\n",
    "1. **A clear and unique name**  \n",
    "   The name of the function is how the agent will refer to it internally. It should describe the action it performs.\n",
    "\n",
    "2. **A well-written docstring**  \n",
    "   The agent reads the docstring to understand:\n",
    "   - what the tool does\n",
    "   - how to use it\n",
    "   - what arguments it accepts\n",
    "   - what it returns  \n",
    "   \n",
    "   Without a good docstring, the agent will either ignore the tool or misuse it.\n",
    "\n",
    "3. **A simple and reliable interface**  \n",
    "   The tool should expect only standard Python types as arguments (`str`, `int`, `float`, etc.) and return a string or JSON-serializable output.\n",
    "\n",
    "#### Our example: `query_events_db`\n",
    "\n",
    "This tool allows the agent to send **raw SQL queries** to the `evenements` table in our local database.\n",
    "\n",
    "You can ask the agent:\n",
    "- `\"What are the events in French?\"`\n",
    "- `\"List all events that mention AI.\"`\n",
    "- `\"How many events are scheduled after July?\"`\n",
    "\n",
    "The agent will translate your question into SQL, run the query using this tool, and return the results in plain text."
   ]
  },
  {
   "cell_type": "markdown",
   "id": "1955e66c",
   "metadata": {},
   "source": [
    "### TODO: \n",
    "\n",
    "Go to [tools.py](./tools.py) and fill the tool called `query_events_db` that takes a SQL query as input and returns the result of the query.\n",
    "\n",
    "Do not forget to fill the docstrings information with the column names you found above ^"
   ]
  },
  {
   "cell_type": "code",
   "execution_count": null,
   "id": "5f65bdce",
   "metadata": {},
   "outputs": [],
   "source": [
    "from workshop_smolagents_mcp.tools import query_events_db"
   ]
  },
  {
   "cell_type": "markdown",
   "id": "5833b5c8",
   "metadata": {},
   "source": [
    "We now set up the model that will power the agent.\n",
    "We’re using OpenAI’s API to access the model gpt-4o."
   ]
  },
  {
   "cell_type": "code",
   "execution_count": null,
   "id": "11707eef",
   "metadata": {},
   "outputs": [],
   "source": [
    "model = OpenAIServerModel(\n",
    "    model_id=\"gpt-4o\",\n",
    "    api_base=\"https://api.openai.com/v1\",\n",
    "    api_key=os.environ[\"OPENAI_API_KEY\"],\n",
    ")"
   ]
  },
  {
   "cell_type": "markdown",
   "id": "eb02277d",
   "metadata": {},
   "source": [
    "\n",
    "Now that we have:\n",
    "\n",
    "- a model (`gpt-4o` via OpenAI),\n",
    "- a tool (`query_events_db`) that knows how to query the event database,  \n",
    "\n",
    "we can combine them into a single `CodeAgent`.\n",
    "\n",
    "The `CodeAgent` is the core component of the `smolagent` framework.  \n",
    "It takes a list of tools and a language model, and automatically decides:\n",
    "\n",
    "- When to call a tool\n",
    "- How to use it\n",
    "- What answer to return to the user\n"
   ]
  },
  {
   "cell_type": "markdown",
   "id": "162c96b2",
   "metadata": {},
   "source": [
    "### TODO: \n",
    "\n",
    "Fill the `tools` list with the tool defined above to include the `query_events_db` tool in the agent."
   ]
  },
  {
   "cell_type": "code",
   "execution_count": null,
   "id": "9d1a929c",
   "metadata": {},
   "outputs": [],
   "source": [
    "agent = CodeAgent(\n",
    "    tools=[...],\n",
    "    model=model,\n",
    ")"
   ]
  },
  {
   "cell_type": "markdown",
   "id": "3e8e85fc",
   "metadata": {},
   "source": [
    "let's try it ! "
   ]
  },
  {
   "cell_type": "markdown",
   "id": "61fe9a8c",
   "metadata": {},
   "source": [
    "### TODO: \n",
    "\n",
    "Have fun: try to run queries!"
   ]
  },
  {
   "cell_type": "code",
   "execution_count": null,
   "id": "2b7b5ac1",
   "metadata": {},
   "outputs": [],
   "source": [
    "question = \"...\"\n",
    "agent.run(question)"
   ]
  }
 ],
 "metadata": {
  "kernelspec": {
   "display_name": ".venv",
   "language": "python",
   "name": "python3"
  },
  "language_info": {
   "codemirror_mode": {
    "name": "ipython",
    "version": 3
   },
   "file_extension": ".py",
   "mimetype": "text/x-python",
   "name": "python",
   "nbconvert_exporter": "python",
   "pygments_lexer": "ipython3",
   "version": "3.13.3"
  }
 },
 "nbformat": 4,
 "nbformat_minor": 5
}
